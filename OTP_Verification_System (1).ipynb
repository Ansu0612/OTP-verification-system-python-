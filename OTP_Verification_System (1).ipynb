{
  "cells": [
    {
      "cell_type": "markdown",
      "metadata": {
        "id": "7GkuybMw8dmt"
      },
      "source": [
        "Import Required Library"
      ]
    },
    {
      "cell_type": "code",
      "execution_count": null,
      "metadata": {
        "id": "ckMcXZnp8ZWV"
      },
      "outputs": [],
      "source": [
        "import random\n",
        "import smtplib\n"
      ]
    },
    {
      "cell_type": "markdown",
      "metadata": {
        "id": "LXd5Bj_2_5p5"
      },
      "source": [
        "Generate 6 digit OTP"
      ]
    },
    {
      "cell_type": "code",
      "execution_count": null,
      "metadata": {
        "id": "GZaQ86jd8h-i"
      },
      "outputs": [],
      "source": [
        "def generate_otp():\n",
        "  return str(random.randint(100000,999999))\n"
      ]
    },
    {
      "cell_type": "markdown",
      "metadata": {
        "id": "Zl-OlLC1fDqM"
      },
      "source": [
        "Send Otp in Gmail"
      ]
    },
    {
      "cell_type": "code",
      "source": [
        "from email.mime.text import MIMEText\n",
        "from email.mime.multipart import MIMEMultipart\n",
        "\n",
        "def send_otp(email, otp):\n",
        "    smtp_server = \"smtp.gmail.com\"\n",
        "    smtp_port = 587\n",
        "    sender_mail = \"ansu11as@gmail.com\"\n",
        "    sender_password = \"nzox iaqm tjgy oqug\"\n",
        "    message = f'Your OTP is {otp}'\n",
        "\n",
        "    try:\n",
        "        # Set up the MIME\n",
        "\n",
        "        msg = MIMEMultipart()\n",
        "        msg['From'] = sender_mail\n",
        "        msg['To'] = email\n",
        "        msg['Subject'] = 'Your OTP Code'\n",
        "\n",
        "        # Add the message body\n",
        "\n",
        "        msg.attach(MIMEText(message, 'plain'))\n",
        "\n",
        "        # Initialize the SMTP server\n",
        "\n",
        "        server = smtplib.SMTP(smtp_server, smtp_port)\n",
        "        server.starttls()  # Secure the connection\n",
        "        server.login(sender_mail, sender_password)\n",
        "        text = msg.as_string()\n",
        "        server.sendmail(sender_mail, email, text)\n",
        "        print(\"OTP Sent Successfully!!\")\n",
        "\n",
        "    except Exception as e:\n",
        "        print(f'Failed to send OTP: {e}')\n",
        "\n",
        "    finally:\n",
        "        server.quit()\n",
        "\n"
      ],
      "metadata": {
        "colab": {
          "base_uri": "https://localhost:8080/"
        },
        "id": "v8GWQFNfDmtP",
        "outputId": "d1b9dcae-9941-4388-b9ef-249cbae43276"
      },
      "execution_count": null,
      "outputs": [
        {
          "output_type": "stream",
          "name": "stdout",
          "text": [
            "OTP Sent Successfully!!\n"
          ]
        }
      ]
    },
    {
      "cell_type": "markdown",
      "metadata": {
        "id": "LRwjiKMQ4fGQ"
      },
      "source": [
        "Validate OTP"
      ]
    },
    {
      "cell_type": "code",
      "execution_count": null,
      "metadata": {
        "id": "f-SD4pzJg2ie"
      },
      "outputs": [],
      "source": [
        "def validate_otp(otp,entered_otp):\n",
        "  n = 1\n",
        "  while n <= 3:\n",
        "    if otp == entered_otp:\n",
        "      return \"Access Granted!!\"\n",
        "\n",
        "    else:\n",
        "      if n == 3:\n",
        "        print(\"No Chance left\")\n",
        "        return \"Accesss Denied! OTP Verfication failed.\"\n",
        "\n",
        "      else:\n",
        "        print(\"You have enter wrong OTP, Please try again!!\")\n",
        "        print(f'Your left with {3-n} chances')\n",
        "        n = n+1\n",
        "        entered_otp = input(\"Re-enter the OTP: \")\n",
        "\n"
      ]
    },
    {
      "cell_type": "markdown",
      "metadata": {
        "id": "iClxwGry6xL8"
      },
      "source": [
        "To excute the OTP Verfication Process"
      ]
    },
    {
      "cell_type": "code",
      "execution_count": null,
      "metadata": {
        "id": "m99x1xo27Dmj",
        "colab": {
          "base_uri": "https://localhost:8080/"
        },
        "outputId": "83ab34d9-9fb4-41a1-9193-d9fd2ccbbaae"
      },
      "outputs": [
        {
          "output_type": "stream",
          "name": "stdout",
          "text": [
            "Enter your email address: ansupriya.chowdhary@apxor.com\n",
            "OTP Sent Successfully!!\n",
            "Enter the OTP you have received: 306371\n",
            "Access Granted!!\n"
          ]
        }
      ],
      "source": [
        "def main():\n",
        "  user_email = input(\"Enter your email address: \")\n",
        "  otp = generate_otp()\n",
        "  send_otp(user_email,otp)\n",
        "  entered_otp = input(\"Enter the OTP you have received: \")\n",
        "  print(validate_otp(otp, entered_otp))\n",
        "\n",
        "\n",
        "if __name__ ==  \"__main__\":\n",
        "  main()\n"
      ]
    }
  ],
  "metadata": {
    "colab": {
      "provenance": []
    },
    "kernelspec": {
      "display_name": "Python 3",
      "name": "python3"
    },
    "language_info": {
      "name": "python"
    }
  },
  "nbformat": 4,
  "nbformat_minor": 0
}